{
 "cells": [
  {
   "cell_type": "code",
   "execution_count": null,
   "id": "db3265fe",
   "metadata": {},
   "outputs": [],
   "source": []
  },
  {
   "cell_type": "code",
   "execution_count": null,
   "id": "d7977007",
   "metadata": {},
   "outputs": [],
   "source": [
    "# part 1\n",
    "# #read in avoided costs"
   ]
  },
  {
   "cell_type": "code",
   "execution_count": null,
   "id": "7d707a1e",
   "metadata": {},
   "outputs": [],
   "source": [
    "# part 1b\n",
    "# Read in Loadshapes and multiply by the kw that each measure saves?"
   ]
  },
  {
   "cell_type": "code",
   "execution_count": null,
   "id": "d8847a4c",
   "metadata": {},
   "outputs": [],
   "source": [
    "# part 2\n",
    "# #this file takes the costs (or incentives from the incentives table\n",
    "#these values will be needed for the cost tests)"
   ]
  },
  {
   "cell_type": "markdown",
   "id": "b3323e41",
   "metadata": {},
   "source": [
    "Part 3\n",
    "\n",
    "This code takes the raw input values from the Avoided cost table and incentives table and creates the avoided cost multipliers for each of the cost tests\n",
    "TRC SCT PCT \n",
    "as seen in the table worksheet\n",
    "and then handed off to mike for incorporation"
   ]
  }
 ],
 "metadata": {
  "language_info": {
   "name": "python"
  }
 },
 "nbformat": 4,
 "nbformat_minor": 5
}
